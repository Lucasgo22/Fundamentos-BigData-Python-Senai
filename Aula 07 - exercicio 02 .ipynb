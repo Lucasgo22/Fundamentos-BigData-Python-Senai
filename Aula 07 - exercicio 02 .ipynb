{
 "cells": [
  {
   "cell_type": "markdown",
   "metadata": {},
   "source": [
    "a) Crie um programa em pandas para ler o arquivo em Excel imobiliária.xlsx\n",
    "\n",
    "b) e coloque em um dataframe.\n",
    "\n",
    "c) Visualize o cabeçalho dos dados;\n",
    "\n",
    "d) Visualize as últimas linhas;\n",
    "\n",
    "e) Escreva um programa para renomear o cabeçalho da tabela com os\n",
    "\n",
    "f) seguintes nomes:\n",
    "\n",
    "![Alt text](image.png)\n",
    "\n",
    "\n"
   ]
  },
  {
   "cell_type": "code",
   "execution_count": 7,
   "metadata": {},
   "outputs": [
    {
     "data": {
      "text/html": [
       "<div>\n",
       "<style scoped>\n",
       "    .dataframe tbody tr th:only-of-type {\n",
       "        vertical-align: middle;\n",
       "    }\n",
       "\n",
       "    .dataframe tbody tr th {\n",
       "        vertical-align: top;\n",
       "    }\n",
       "\n",
       "    .dataframe thead th {\n",
       "        text-align: right;\n",
       "    }\n",
       "</style>\n",
       "<table border=\"1\" class=\"dataframe\">\n",
       "  <thead>\n",
       "    <tr style=\"text-align: right;\">\n",
       "      <th></th>\n",
       "      <th>Coluna 1</th>\n",
       "      <th>Coluna 2</th>\n",
       "      <th>Coluna 3</th>\n",
       "      <th>Coluna 4</th>\n",
       "      <th>Coluna 5</th>\n",
       "      <th>Coluna 6</th>\n",
       "      <th>Coluna 7</th>\n",
       "      <th>Coluna 8</th>\n",
       "      <th>Coluna 8.1</th>\n",
       "      <th>Coluna 10</th>\n",
       "    </tr>\n",
       "  </thead>\n",
       "  <tbody>\n",
       "    <tr>\n",
       "      <th>0</th>\n",
       "      <td>Centro</td>\n",
       "      <td>Simone</td>\n",
       "      <td>2005-10-08</td>\n",
       "      <td>Apartamento</td>\n",
       "      <td>102.5</td>\n",
       "      <td>2</td>\n",
       "      <td>2</td>\n",
       "      <td>Sim</td>\n",
       "      <td>235500</td>\n",
       "      <td>3532.5</td>\n",
       "    </tr>\n",
       "    <tr>\n",
       "      <th>1</th>\n",
       "      <td>Noroeste</td>\n",
       "      <td>Simone</td>\n",
       "      <td>2005-10-08</td>\n",
       "      <td>Apartamento</td>\n",
       "      <td>199.5</td>\n",
       "      <td>4</td>\n",
       "      <td>4</td>\n",
       "      <td>Não</td>\n",
       "      <td>377700</td>\n",
       "      <td>5665.5</td>\n",
       "    </tr>\n",
       "    <tr>\n",
       "      <th>2</th>\n",
       "      <td>Norte</td>\n",
       "      <td>Roberto</td>\n",
       "      <td>2005-10-12</td>\n",
       "      <td>Casa</td>\n",
       "      <td>145.5</td>\n",
       "      <td>2</td>\n",
       "      <td>2</td>\n",
       "      <td>Não</td>\n",
       "      <td>232500</td>\n",
       "      <td>3487.5</td>\n",
       "    </tr>\n",
       "    <tr>\n",
       "      <th>3</th>\n",
       "      <td>Sudeste</td>\n",
       "      <td>Simone</td>\n",
       "      <td>2005-10-14</td>\n",
       "      <td>Apartamento</td>\n",
       "      <td>153.5</td>\n",
       "      <td>3</td>\n",
       "      <td>2</td>\n",
       "      <td>Não</td>\n",
       "      <td>289100</td>\n",
       "      <td>4336.5</td>\n",
       "    </tr>\n",
       "    <tr>\n",
       "      <th>4</th>\n",
       "      <td>Noroeste</td>\n",
       "      <td>Cristina</td>\n",
       "      <td>2005-10-16</td>\n",
       "      <td>Apartamento</td>\n",
       "      <td>93.0</td>\n",
       "      <td>2</td>\n",
       "      <td>2</td>\n",
       "      <td>Sim</td>\n",
       "      <td>235400</td>\n",
       "      <td>3531.0</td>\n",
       "    </tr>\n",
       "  </tbody>\n",
       "</table>\n",
       "</div>"
      ],
      "text/plain": [
       "   Coluna 1  Coluna 2   Coluna 3     Coluna 4  Coluna 5  Coluna 6  Coluna 7  \\\n",
       "0    Centro    Simone 2005-10-08  Apartamento     102.5         2         2   \n",
       "1  Noroeste    Simone 2005-10-08  Apartamento     199.5         4         4   \n",
       "2     Norte   Roberto 2005-10-12         Casa     145.5         2         2   \n",
       "3   Sudeste    Simone 2005-10-14  Apartamento     153.5         3         2   \n",
       "4  Noroeste  Cristina 2005-10-16  Apartamento      93.0         2         2   \n",
       "\n",
       "  Coluna 8  Coluna 8.1  Coluna 10  \n",
       "0      Sim      235500     3532.5  \n",
       "1      Não      377700     5665.5  \n",
       "2      Não      232500     3487.5  \n",
       "3      Não      289100     4336.5  \n",
       "4      Sim      235400     3531.0  "
      ]
     },
     "execution_count": 7,
     "metadata": {},
     "output_type": "execute_result"
    }
   ],
   "source": [
    "# importar a biblioteca\n",
    "\n",
    "import pandas as pd\n",
    "\n",
    "caminho = 'C:\\\\Users\\\\FIC\\\\Documents\\\\Lucas Gomes Python\\\\003 - Arquivos\\\\'\n",
    "arquivo = 'Imobiliária.xlsx'\n",
    "\n",
    "df = pd.read_excel(caminho+arquivo, sheet_name = 'Base')\n",
    "\n",
    "df.head()\n"
   ]
  },
  {
   "cell_type": "code",
   "execution_count": 58,
   "metadata": {},
   "outputs": [],
   "source": [
    "df.columns = ['Filial','Vendedor','data','tipo','Area(m²)'\n",
    "            ,'Dorms.','Garag.','Piscina','Preço','comissão']"
   ]
  },
  {
   "cell_type": "code",
   "execution_count": 10,
   "metadata": {},
   "outputs": [
    {
     "data": {
      "text/html": [
       "<div>\n",
       "<style scoped>\n",
       "    .dataframe tbody tr th:only-of-type {\n",
       "        vertical-align: middle;\n",
       "    }\n",
       "\n",
       "    .dataframe tbody tr th {\n",
       "        vertical-align: top;\n",
       "    }\n",
       "\n",
       "    .dataframe thead th {\n",
       "        text-align: right;\n",
       "    }\n",
       "</style>\n",
       "<table border=\"1\" class=\"dataframe\">\n",
       "  <thead>\n",
       "    <tr style=\"text-align: right;\">\n",
       "      <th></th>\n",
       "      <th>Filial</th>\n",
       "      <th>Vendedor</th>\n",
       "      <th>data</th>\n",
       "      <th>tipo</th>\n",
       "      <th>Area(m²)</th>\n",
       "      <th>Dorms.</th>\n",
       "      <th>Gatag</th>\n",
       "      <th>Piscina</th>\n",
       "      <th>Preço</th>\n",
       "      <th>comissão</th>\n",
       "    </tr>\n",
       "  </thead>\n",
       "  <tbody>\n",
       "    <tr>\n",
       "      <th>0</th>\n",
       "      <td>Centro</td>\n",
       "      <td>Simone</td>\n",
       "      <td>2005-10-08</td>\n",
       "      <td>Apartamento</td>\n",
       "      <td>102.5</td>\n",
       "      <td>2</td>\n",
       "      <td>2</td>\n",
       "      <td>Sim</td>\n",
       "      <td>235500</td>\n",
       "      <td>3532.5</td>\n",
       "    </tr>\n",
       "    <tr>\n",
       "      <th>1</th>\n",
       "      <td>Noroeste</td>\n",
       "      <td>Simone</td>\n",
       "      <td>2005-10-08</td>\n",
       "      <td>Apartamento</td>\n",
       "      <td>199.5</td>\n",
       "      <td>4</td>\n",
       "      <td>4</td>\n",
       "      <td>Não</td>\n",
       "      <td>377700</td>\n",
       "      <td>5665.5</td>\n",
       "    </tr>\n",
       "    <tr>\n",
       "      <th>2</th>\n",
       "      <td>Norte</td>\n",
       "      <td>Roberto</td>\n",
       "      <td>2005-10-12</td>\n",
       "      <td>Casa</td>\n",
       "      <td>145.5</td>\n",
       "      <td>2</td>\n",
       "      <td>2</td>\n",
       "      <td>Não</td>\n",
       "      <td>232500</td>\n",
       "      <td>3487.5</td>\n",
       "    </tr>\n",
       "    <tr>\n",
       "      <th>3</th>\n",
       "      <td>Sudeste</td>\n",
       "      <td>Simone</td>\n",
       "      <td>2005-10-14</td>\n",
       "      <td>Apartamento</td>\n",
       "      <td>153.5</td>\n",
       "      <td>3</td>\n",
       "      <td>2</td>\n",
       "      <td>Não</td>\n",
       "      <td>289100</td>\n",
       "      <td>4336.5</td>\n",
       "    </tr>\n",
       "    <tr>\n",
       "      <th>4</th>\n",
       "      <td>Noroeste</td>\n",
       "      <td>Cristina</td>\n",
       "      <td>2005-10-16</td>\n",
       "      <td>Apartamento</td>\n",
       "      <td>93.0</td>\n",
       "      <td>2</td>\n",
       "      <td>2</td>\n",
       "      <td>Sim</td>\n",
       "      <td>235400</td>\n",
       "      <td>3531.0</td>\n",
       "    </tr>\n",
       "  </tbody>\n",
       "</table>\n",
       "</div>"
      ],
      "text/plain": [
       "     Filial  Vendedor       data         tipo  Area(m²)  Dorms.  Gatag  \\\n",
       "0    Centro    Simone 2005-10-08  Apartamento     102.5       2      2   \n",
       "1  Noroeste    Simone 2005-10-08  Apartamento     199.5       4      4   \n",
       "2     Norte   Roberto 2005-10-12         Casa     145.5       2      2   \n",
       "3   Sudeste    Simone 2005-10-14  Apartamento     153.5       3      2   \n",
       "4  Noroeste  Cristina 2005-10-16  Apartamento      93.0       2      2   \n",
       "\n",
       "  Piscina   Preço  comissão  \n",
       "0     Sim  235500    3532.5  \n",
       "1     Não  377700    5665.5  \n",
       "2     Não  232500    3487.5  \n",
       "3     Não  289100    4336.5  \n",
       "4     Sim  235400    3531.0  "
      ]
     },
     "execution_count": 10,
     "metadata": {},
     "output_type": "execute_result"
    }
   ],
   "source": [
    "df.head()"
   ]
  },
  {
   "cell_type": "code",
   "execution_count": 11,
   "metadata": {},
   "outputs": [
    {
     "name": "stdout",
     "output_type": "stream",
     "text": [
      "<class 'pandas.core.frame.DataFrame'>\n",
      "RangeIndex: 1117 entries, 0 to 1116\n",
      "Data columns (total 10 columns):\n",
      " #   Column    Non-Null Count  Dtype         \n",
      "---  ------    --------------  -----         \n",
      " 0   Filial    1117 non-null   object        \n",
      " 1   Vendedor  1117 non-null   object        \n",
      " 2   data      1117 non-null   datetime64[ns]\n",
      " 3   tipo      1117 non-null   object        \n",
      " 4   Area(m²)  1117 non-null   float64       \n",
      " 5   Dorms.    1117 non-null   int64         \n",
      " 6   Gatag     1117 non-null   int64         \n",
      " 7   Piscina   1117 non-null   object        \n",
      " 8   Preço     1117 non-null   int64         \n",
      " 9   comissão  1117 non-null   float64       \n",
      "dtypes: datetime64[ns](1), float64(2), int64(3), object(4)\n",
      "memory usage: 87.4+ KB\n"
     ]
    }
   ],
   "source": [
    "df.info()"
   ]
  },
  {
   "cell_type": "code",
   "execution_count": 16,
   "metadata": {},
   "outputs": [
    {
     "name": "stdout",
     "output_type": "stream",
     "text": [
      "O valor total é:  295035000\n",
      "A média dos valores é:  264131.6025067144\n",
      "o Maior valor é:  384300\n",
      "O menor valor é:  145100\n",
      "a contagem é:  1117\n"
     ]
    }
   ],
   "source": [
    "print ('O valor total é: ',df['Preço'].sum())\n",
    "print ('A média dos valores é: ',df['Preço'].mean())\n",
    "print ('o Maior valor é: ',df['Preço'].max())\n",
    "print ('O menor valor é: ',df['Preço'].min())\n",
    "print ('a contagem é: ',df['Preço'].count())\n"
   ]
  },
  {
   "cell_type": "markdown",
   "metadata": {},
   "source": [
    "j) 8. Crie um programa para criar um dataframe para mostrar as vendas por\n",
    "k) região, e salvar um arquivo em Excel para cada região.\n",
    "▪ Centro\n",
    "▪ Noroeste\n",
    "▪ Norte\n",
    "▪ Sudeste\n",
    "▪ Oeste\n",
    "▪ Leste\n",
    "▪ Sudoeste\n",
    "▪ Sul\n",
    "▪ Nordeste"
   ]
  },
  {
   "cell_type": "code",
   "execution_count": 24,
   "metadata": {},
   "outputs": [],
   "source": [
    "# Filtrar um DataFrame\n",
    "\n",
    "df_norte = df[df['Filial'] == 'Norte']\n",
    "#Diretorio que deseja salvar\n",
    "pasta_destino = 'C:\\\\Users\\FIC\\Documents\\\\Lucas Gomes Python\\\\Resultados Imobiliaria\\\\'\n",
    "#Colocar o nome do Arquivo\n",
    "\n",
    "nome_arquivo = 'Norte.xlsx'\n",
    "#Salvando o Arquivo\n",
    "\n",
    "df_norte.to_excel(pasta_destino+nome_arquivo)"
   ]
  },
  {
   "cell_type": "code",
   "execution_count": 25,
   "metadata": {},
   "outputs": [],
   "source": [
    "#Filtando dataframe - Centro\n",
    "\n",
    "df_centro = df[df['Filial'] == 'Centro']\n",
    "\n",
    "pasta_destino = 'C:\\\\Users\\\\FIC\\\\Documents\\\\Lucas Gomes Python\\\\Resultados Imobiliaria\\\\'\n",
    "\n",
    "nome_arquivo = 'Centro.xlsx'\n",
    "\n",
    "df_centro.to_excel(pasta_destino + nome_arquivo)"
   ]
  },
  {
   "cell_type": "code",
   "execution_count": 27,
   "metadata": {},
   "outputs": [],
   "source": [
    "#Filtrando dataframe = Noroeste\n",
    "\n",
    "df_noroeste = df[df['Filial'] == 'Noroeste']\n",
    "\n",
    "pasta_destino = 'C:\\\\Users\\\\FIC\\\\Documents\\\\Lucas Gomes Python\\\\Resultados Imobiliaria\\\\'\n",
    "\n",
    "nome_arquivo = 'Noroeste.xlsx'\n",
    "\n",
    "df_noroeste.to_excel(pasta_destino + nome_arquivo)"
   ]
  },
  {
   "cell_type": "code",
   "execution_count": 28,
   "metadata": {},
   "outputs": [],
   "source": [
    "#Filtrando dataframe = Sudeste\n",
    "\n",
    "df_sudeste = df[df['Filial']== 'Sudeste']\n",
    "\n",
    "pasta_destino = 'C:\\\\Users\\\\FIC\\\\Documents\\\\Lucas Gomes Python\\\\Resultados Imobiliaria\\\\'\n",
    "\n",
    "nome_arquivo = 'Sudeste.xlsx'\n",
    "\n",
    "df_sudeste.to_excel(pasta_destino + nome_arquivo)"
   ]
  },
  {
   "cell_type": "code",
   "execution_count": 30,
   "metadata": {},
   "outputs": [],
   "source": [
    "#Filtrando dataframe = Oeste\n",
    "\n",
    "df_oeste = df[df['Filial']== 'Oeste']\n",
    "\n",
    "pasta_destino = 'C:\\\\Users\\\\FIC\\\\Documents\\\\Lucas Gomes Python\\\\Resultados Imobiliaria\\\\'\n",
    "\n",
    "nome_arquivo = 'Oeste.xlsx'\n",
    "\n",
    "df_oeste.to_excel(pasta_destino + nome_arquivo)"
   ]
  },
  {
   "cell_type": "code",
   "execution_count": 31,
   "metadata": {},
   "outputs": [],
   "source": [
    "#filtrando datafrena - Leste\n",
    "\n",
    "df_leste = df[df['Filial']=='Leste']\n",
    "\n",
    "destino = 'C:\\\\Users\\\\FIC\\\\Documents\\\\Lucas Gomes Python\\\\Resultados Imobiliaria\\\\'\n",
    "\n",
    "arquivo = 'Leste.xlsx'\n",
    "\n",
    "df_leste.to_excel(destino + arquivo)"
   ]
  },
  {
   "cell_type": "code",
   "execution_count": 33,
   "metadata": {},
   "outputs": [],
   "source": [
    "#filtrando dataframe - Sudoeste\n",
    "\n",
    "df_sudoeste = df[df['Filial'] == 'Sudoeste']\n",
    "\n",
    "destino = 'C:\\\\Users\\\\FIC\\\\Documents\\\\Lucas Gomes Python\\\\Resultados Imobiliaria\\\\'\n",
    "\n",
    "arquivo = 'Leste.xlsx'\n",
    "\n",
    "\n",
    "arquivo = 'Sudoeste.xlsx'\n",
    "\n",
    "df_sudoeste.to_excel(destino + arquivo)"
   ]
  },
  {
   "cell_type": "code",
   "execution_count": 34,
   "metadata": {},
   "outputs": [],
   "source": [
    "# filtrando dataframe - Sul \n",
    "\n",
    "df_sul = df[df['Filial']== 'Sul']\n",
    "\n",
    "destino = 'C:\\\\Users\\\\FIC\\\\Documents\\\\Lucas Gomes Python\\\\Resultados Imobiliaria\\\\'\n",
    "arquivo = 'Sul.xlsx'\n",
    "\n",
    "df_sul.to_excel(destino + arquivo)\n"
   ]
  },
  {
   "cell_type": "code",
   "execution_count": 35,
   "metadata": {},
   "outputs": [],
   "source": [
    "#filtrando dataframe - Nordeste\n",
    "\n",
    "df_nordeste = df[df['Filial'] == 'Nordeste']\n",
    "\n",
    "destino = 'C:\\\\Users\\\\FIC\\\\Documents\\\\Lucas Gomes Python\\\\Resultados Imobiliaria\\\\'\n",
    "arquivo = 'nordeste.xlsx'\n",
    "\n",
    "df_nordeste.to_excel(destino + arquivo)"
   ]
  },
  {
   "cell_type": "markdown",
   "metadata": {},
   "source": [
    "Gere um arquivo em Excel para representar as vendas efetuadas pela filial norte\n",
    "em 2010."
   ]
  },
  {
   "cell_type": "code",
   "execution_count": 54,
   "metadata": {},
   "outputs": [],
   "source": [
    "dados = df[(df['data'] >= '2010-01-01') & \n",
    "   (df['data'] <= '2010-12-31') & \n",
    "   (df['Filial'] == 'Norte')\n",
    "   ]\n",
    "\n",
    "# Nome do Arquivo\n",
    "\n",
    "nome_arquivo = 'Norte_2010.xlsx'\n",
    "\n",
    "# Salvar / Gerar um arquivo em excel\n",
    "dados.to_excel(pasta_destino + nome_arquivo)\n"
   ]
  },
  {
   "cell_type": "markdown",
   "metadata": {},
   "source": [
    "m) Gere um arquivo em Excel para representar as vendas efetuadas pela filial\n",
    "Sudeste em 2010. Sendo que no relatório deve conter apenas vendas de casas\n",
    "sem garagem.\n",
    "\n"
   ]
  },
  {
   "cell_type": "code",
   "execution_count": 77,
   "metadata": {},
   "outputs": [],
   "source": [
    "novo_planilha = df[(df['data'] >= '2010-01-01') & \n",
    "                 (df['data'] <= '2010-12-31') & \n",
    "                (df['Filial'] == 'Sudeste') & \n",
    "                (df['Garag.'] == 0) & (df['tipo'] == 'Casa')\n",
    "]\n",
    "\n",
    "arquivo = 'Filial Sudeste sem Garagem.xlsx'\n",
    "\n",
    "novo_planilha.to_excel(pasta_destino + arquivo)"
   ]
  },
  {
   "cell_type": "markdown",
   "metadata": {},
   "source": [
    "n) Qual o valor máximo de comissão que a imobiliária numa venda?"
   ]
  },
  {
   "cell_type": "code",
   "execution_count": 83,
   "metadata": {},
   "outputs": [
    {
     "data": {
      "text/html": [
       "<div>\n",
       "<style scoped>\n",
       "    .dataframe tbody tr th:only-of-type {\n",
       "        vertical-align: middle;\n",
       "    }\n",
       "\n",
       "    .dataframe tbody tr th {\n",
       "        vertical-align: top;\n",
       "    }\n",
       "\n",
       "    .dataframe thead th {\n",
       "        text-align: right;\n",
       "    }\n",
       "</style>\n",
       "<table border=\"1\" class=\"dataframe\">\n",
       "  <thead>\n",
       "    <tr style=\"text-align: right;\">\n",
       "      <th></th>\n",
       "      <th>Filial</th>\n",
       "      <th>Vendedor</th>\n",
       "      <th>data</th>\n",
       "      <th>tipo</th>\n",
       "      <th>Area(m²)</th>\n",
       "      <th>Dorms.</th>\n",
       "      <th>Garag.</th>\n",
       "      <th>Piscina</th>\n",
       "      <th>Preço</th>\n",
       "      <th>comissão</th>\n",
       "    </tr>\n",
       "  </thead>\n",
       "  <tbody>\n",
       "    <tr>\n",
       "      <th>848</th>\n",
       "      <td>Sul</td>\n",
       "      <td>Adriana</td>\n",
       "      <td>2009-12-27</td>\n",
       "      <td>Apartamento</td>\n",
       "      <td>188.5</td>\n",
       "      <td>4</td>\n",
       "      <td>4</td>\n",
       "      <td>Sim</td>\n",
       "      <td>384300</td>\n",
       "      <td>5764.5</td>\n",
       "    </tr>\n",
       "  </tbody>\n",
       "</table>\n",
       "</div>"
      ],
      "text/plain": [
       "    Filial Vendedor       data         tipo  Area(m²)  Dorms.  Garag. Piscina  \\\n",
       "848    Sul  Adriana 2009-12-27  Apartamento     188.5       4       4     Sim   \n",
       "\n",
       "      Preço  comissão  \n",
       "848  384300    5764.5  "
      ]
     },
     "execution_count": 83,
     "metadata": {},
     "output_type": "execute_result"
    }
   ],
   "source": [
    "\n",
    "\n",
    "\n",
    "df[df['comissão'] == df['comissão'].max()]\n"
   ]
  },
  {
   "cell_type": "markdown",
   "metadata": {},
   "source": [
    "    o) Quantas casas de 2 ou 3 dormitórios foram vendidas pelo Ricardo antes de 2011."
   ]
  },
  {
   "cell_type": "code",
   "execution_count": 84,
   "metadata": {},
   "outputs": [],
   "source": [
    "planilha_ricardo = df[(df['data'] < '2011-01-01') &\n",
    "                      (df['Vendedor'] == 'Ricardo') &\n",
    "                      (df['Dorms.'] > 1) & (df['Dorms.'] < 4) &\n",
    "                      (df['tipo'] == 'casa')\n",
    "                      ]\n",
    "\n",
    "destino = 'C:\\\\Users\\\\FIC\\\\Documents\\\\Lucas Gomes Python\\\\Resultados Imobiliaria\\\\'\n",
    "arquivo = 'Ricardo antes de 2011.xlsx'\n",
    "\n",
    "planilha_ricardo.to_excel(destino + arquivo)"
   ]
  },
  {
   "cell_type": "code",
   "execution_count": 74,
   "metadata": {},
   "outputs": [
    {
     "name": "stdout",
     "output_type": "stream",
     "text": [
      "<class 'pandas.core.frame.DataFrame'>\n",
      "RangeIndex: 1117 entries, 0 to 1116\n",
      "Data columns (total 10 columns):\n",
      " #   Column    Non-Null Count  Dtype         \n",
      "---  ------    --------------  -----         \n",
      " 0   Filial    1117 non-null   object        \n",
      " 1   Vendedor  1117 non-null   object        \n",
      " 2   data      1117 non-null   datetime64[ns]\n",
      " 3   tipo      1117 non-null   object        \n",
      " 4   Area(m²)  1117 non-null   float64       \n",
      " 5   Dorms.    1117 non-null   int64         \n",
      " 6   Garag.    1117 non-null   int64         \n",
      " 7   Piscina   1117 non-null   object        \n",
      " 8   Preço     1117 non-null   int64         \n",
      " 9   comissão  1117 non-null   float64       \n",
      "dtypes: datetime64[ns](1), float64(2), int64(3), object(4)\n",
      "memory usage: 87.4+ KB\n"
     ]
    }
   ],
   "source": [
    "df.info()"
   ]
  },
  {
   "cell_type": "code",
   "execution_count": null,
   "metadata": {},
   "outputs": [],
   "source": []
  }
 ],
 "metadata": {
  "kernelspec": {
   "display_name": "Python 3",
   "language": "python",
   "name": "python3"
  },
  "language_info": {
   "codemirror_mode": {
    "name": "ipython",
    "version": 3
   },
   "file_extension": ".py",
   "mimetype": "text/x-python",
   "name": "python",
   "nbconvert_exporter": "python",
   "pygments_lexer": "ipython3",
   "version": "3.11.0"
  },
  "orig_nbformat": 4
 },
 "nbformat": 4,
 "nbformat_minor": 2
}
