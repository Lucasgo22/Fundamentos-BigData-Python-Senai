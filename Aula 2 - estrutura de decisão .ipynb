{
 "cells": [
  {
   "cell_type": "markdown",
   "id": "69596afa",
   "metadata": {},
   "source": [
    "## Exercicio 1\n",
    "Crie uma variável chamada \"idade\" e atribua um valor inteiro a ela.\n",
    "Verifique se a idade é maior ou igual a 18 e imprima \"Maior de idade\" ou \"Menor de\n",
    "idade\" de acordo com a condição."
   ]
  },
  {
   "cell_type": "code",
   "execution_count": null,
   "id": "7833347c",
   "metadata": {},
   "outputs": [],
   "source": [
    "idade = 10\n",
    "if idade >= 18: \n",
    "    print ('Maior de idade')\n",
    "\n",
    "else :\n",
    "    print (\"menor de idade\")"
   ]
  },
  {
   "cell_type": "markdown",
   "id": "997ef3ac",
   "metadata": {},
   "source": [
    "## Exercicio 15 \n"
   ]
  },
  {
   "cell_type": "code",
   "execution_count": null,
   "id": "110156e2",
   "metadata": {},
   "outputs": [],
   "source": [
    "nota_1 = float (input('Digite a nota 01:'))\n",
    "nota_2 = float (input('Digite a nota 02:'))\n",
    "\n",
    "media = (nota_1 + nota_2)/2\n",
    "\n",
    "if media >= 7 and media < 10:\n",
    "    print(f'aprovado! sua media final é {media}.')\n",
    "elif media < 7:\n",
    "    print(f'reprovado! sua media final é {media}.')\n",
    "elif media == 10:\n",
    "    print(f'aprovado com distinção! sua media final é {media}.')\n",
    "    "
   ]
  },
  {
   "cell_type": "markdown",
   "id": "8a988f00",
   "metadata": {},
   "source": [
    "## Exercicio 16 "
   ]
  },
  {
   "cell_type": "code",
   "execution_count": null,
   "id": "c71f4acf",
   "metadata": {},
   "outputs": [],
   "source": [
    "num1 = float(input('Digite o primeiro numero:'))\n",
    "num2 = float(input('Digite o segundo numero: '))\n",
    "num3 = float(input('Digite o terceiro numero: '))\n",
    "\n",
    "if num1 > num2 and num1 > num3:\n",
    "    print (f'o maior numero é: {num1}.')\n",
    "    \n",
    "elif num2 > num1 and num2 > num3:\n",
    "    print (f'o maior numero é: {num2}.')\n",
    "    \n",
    "elif num3 > num1 and num3 > num2:\n",
    "    print (f'o maior numero é: {num3}.')"
   ]
  },
  {
   "cell_type": "markdown",
   "id": "b276a95e",
   "metadata": {},
   "source": [
    "## Exercicio 17"
   ]
  },
  {
   "cell_type": "code",
   "execution_count": null,
   "id": "e6ff1ff5",
   "metadata": {},
   "outputs": [],
   "source": [
    "num1 = float(input('Digite o primeiro numero:'))\n",
    "num2 = float(input('Digite o segundo numero: '))\n",
    "num3 = float(input('Digite o terceiro numero: '))\n",
    "\n",
    "if num1 > num2 and num1 > num3:\n",
    "    print (f'o maior numero é: {num1}.')\n",
    "    \n",
    "elif num2 > num1 and num2 > num3:\n",
    "    print (f'o maior numero é: {num2}.')\n",
    "    \n",
    "elif num3 > num1 and num3 > num2:\n",
    "    print (f'o maior numero é: {num3}.')\n",
    "    \n",
    "if num1 < num2 and num1 < num3:\n",
    "    print (f'o menor numero é: {num1}.')\n",
    "    \n",
    "elif num2 < num1 and num2 < num3:\n",
    "    print (f'o menor numero é: {num2}.')\n",
    "    \n",
    "elif num3 < num1 and num3 < num2:\n",
    "    print (f'o menor numero é: {num3}.')"
   ]
  },
  {
   "cell_type": "markdown",
   "id": "0535cf34",
   "metadata": {},
   "source": [
    "## Exercicio 18"
   ]
  },
  {
   "cell_type": "code",
   "execution_count": null,
   "id": "6c99203d",
   "metadata": {},
   "outputs": [],
   "source": [
    "preco1 = float(input('Digite o preço do primeiro protudo:'))\n",
    "preco2 = float(input('Digite o preço do segundo protudo: '))\n",
    "preco3 = float(input('Digite o preço do terceiro protudo: '))\n",
    "\n",
    "if preco1 < preco2 and preco1 < preco3:\n",
    "    print (f'o produto mais barato é o produto numero 1 com o valor de: $ {preco1} reais.')\n",
    "    \n",
    "elif preco2 < preco1 and preco2 < preco3:\n",
    "    print (f'o produto mais barato é o produto numero 2 com o valor de: $ {preco2} reais.')\n",
    "    \n",
    "elif preco3 < preco1 and preco3 < preco2:\n",
    "    print (f'o produto mais barato é o produto numero 3 com o valor de: $ {preco3} reais.')"
   ]
  },
  {
   "cell_type": "markdown",
   "id": "0dc52be1",
   "metadata": {},
   "source": [
    "## Exercicio 19"
   ]
  },
  {
   "cell_type": "code",
   "execution_count": null,
   "id": "c6ec3e02",
   "metadata": {},
   "outputs": [],
   "source": [
    "# Faça um Programa que leia três números e mostre-os em ordem decrescente.\n",
    "\n",
    "num1 = float(input('Digite o primeiro numero:'))\n",
    "num2 = float(input('Digite o segundo numero: '))\n",
    "num3 = float(input('Digite o terceiro numero: '))\n",
    "\n",
    "if num1 > num2 and num1 > num3:\n",
    "    \n",
    "    if num2 < num3:\n",
    "        print (f'O maior valor é {num1} e o menor valor é{num2}')\n",
    "    else:\n",
    "        print(f'o maior valor é {num1} e o menor valor é {num3}')\n",
    "\n",
    "elif num2 > num1 and num2 > num3:\n",
    "    \n",
    "    if num1 < num3:\n",
    "        print (f'O maior valor é {num2} e o menor valor é{num1}')\n",
    "    \n",
    "    else:\n",
    "        print(f'o maior valor é {num2} e o menor valor é {num3}')\n",
    "\n",
    "elif num3 > num1 and num3 > num2:\n",
    "    \n",
    "    if num1 < num2:\n",
    "        print (f'O maior valor é {num3} e o menor valor é{num1}')\n",
    "    \n",
    "    else:\n",
    "        print(f'o maior valor é {num3} e o menor valor é {num2}')"
   ]
  },
  {
   "cell_type": "code",
   "execution_count": null,
   "id": "e8178d90",
   "metadata": {},
   "outputs": [],
   "source": [
    "num1 = float(input('Digite o primeiro numero:'))\n",
    "num2 = float(input('Digite o segundo numero: '))\n",
    "num3 = float(input('Digite o terceiro numero: '))\n",
    "\n",
    "if num1 > num2 and num1 > num3 and num2 > num3:\n",
    "    print (f'a ordem decrescente é: {num1} , {num2} , {num3}.')\n",
    "    \n",
    "if num1 > num2 and num1 > num3 and num3 > num2:\n",
    "    print (f'a ordem decrescente é: {num1} , {num3} , {num2}.')\n",
    "    \n",
    "elif num2 > num1 and num2 > num3 and num1 > num3:\n",
    "    print (f'a ordem decrescente é: {num2} , {num1} , {num3}.')\n",
    "    \n",
    "elif num2 > num1 and num2 > num3 and num3 > num1:\n",
    "    print (f'a ordem decrescente é: {num2} , {num3} , {num1}.')\n",
    "    \n",
    "elif num3 > num1 and num3 > num2 and num1 > num2:\n",
    "    print (f'a ordem decrescente é: {num3} , {num1} , {num2}.')\n",
    "\n",
    "elif num3 > num1 and num3 > num2 and num2 > num1:\n",
    "    print (f'a ordem decrescente é: {num3} , {num2} , {num1}.')\n"
   ]
  },
  {
   "cell_type": "markdown",
   "id": "f0961eb6",
   "metadata": {},
   "source": [
    "## Exercicio 20"
   ]
  },
  {
   "cell_type": "code",
   "execution_count": null,
   "id": "6666aae2",
   "metadata": {},
   "outputs": [],
   "source": [
    "turno = str (input('Digite qual o seu turno, m - manha , v - vespertino , n - noturno: '))\n",
    "\n",
    "\n",
    "if turno == 'm':\n",
    "    print('Bom Dia!')\n",
    "    \n",
    "elif turno == 'v':\n",
    "    print('Boa Tarde!')\n",
    "    \n",
    "elif turno == 'n':\n",
    "    print ('Boa Noite!')\n",
    "    \n",
    "else:\n",
    "    print ('Valor invalido!')"
   ]
  },
  {
   "cell_type": "code",
   "execution_count": null,
   "id": "a353fccc",
   "metadata": {},
   "outputs": [],
   "source": [
    "num1 = float(input('Digite o primeiro numero:'))\n",
    "num2 = float(input('Digite o segundo numero: '))\n",
    "num3 = float(input('Digite o terceiro numero: '))\n",
    "\n",
    "if num1 > num2 and num1 > num3:\n",
    "    \n",
    "    if num2 > num3:\n",
    "        print (f'1° valor: {num1}, 2° valor: {num2}, 3° valor: {num3}')\n",
    "    \n",
    "    else:\n",
    "        print (f'1° valor:{num1}, 2° valor: {num3}, 3° valor{num2}')\n",
    "    \n",
    "elif num2 > num1 and num2 > num3:\n",
    "    \n",
    "    if num1 > num3:\n",
    "        print (f'1° valor: {num2}, 2° valor: {num1}, 3° valor: {num3}')\n",
    "    \n",
    "    else:\n",
    "        print (f'1° valor:{num2}, 2° valor: {num3}, 3° valor{num1}')\n",
    "    \n",
    "elif num3 > num1 and num3 > num2:\n",
    "    \n",
    "    if num1 > num2:\n",
    "        print (f'1° valor: {num3}, 2° valor: {num1}, 3° valor: {num2}')\n",
    "    \n",
    "    else:\n",
    "        print (f'1° valor:{num3}, 2° valor: {num2}, 3° valor{num1}')"
   ]
  },
  {
   "cell_type": "code",
   "execution_count": 4,
   "id": "3fb1b16f",
   "metadata": {},
   "outputs": [
    {
     "name": "stdout",
     "output_type": "stream",
     "text": [
      "Digite o primeiro numero:1\n",
      "Digite o segundo numero: 5\n",
      "Digite o terceiro numero: 4\n",
      "Digite o quarto numero: 3\n",
      "Digite o quinto numero: 8\n"
     ]
    }
   ],
   "source": [
    "num1 = float(input('Digite o primeiro numero:'))\n",
    "num2 = float(input('Digite o segundo numero: '))\n",
    "num3 = float(input('Digite o terceiro numero: '))\n",
    "num4 = float(input('Digite o quarto numero: '))\n",
    "num5 = float(input('Digite o quinto numero: '))\n",
    "\n",
    "#rdem = str (input(\"como voce vai querer a ordem dos numeros? c- Crescente ou d- Decrescente\"))\n",
    "\n",
    "\n",
    "if  num1 > num2 and num1 > num3 and num1 > num4 and num1 > num5:\n",
    "    if num2 > num3 and num2 > num4 and num2 > num5:     \n",
    "        if num3 > num4 and num3 > num5:\n",
    "            if num4 > num5:\n",
    "                print (f'a ordem Crescente é: {num1}, {num2}, {num3}, {num4}, {num5}')\n",
    "                \n",
    "elif num2> num1 and num2 > num3 and num2 > num4 and num2 > num5:\n",
    "    if num1 > num3 and num1 > num4 and num1 > num5:     \n",
    "        if num3 > num4 and num3 > num5:\n",
    "            if num4 > num5:\n",
    "                print (f'a ordem Crescente é: {num2}, {num1}, {num3}, {num4}, {num5}')\n",
    "\n",
    "elif num3> num1 and num3 > num2 and num3 > num4 and num3 > num5:\n",
    "    if num1 > num2 and num1 > num4 and num1 > num5:     \n",
    "        if num2 > num4 and num2 > num5:\n",
    "            if num4 > num5:\n",
    "                print (f'a ordem Crescente é: {num3}, {num1}, {num2}, {num4}, {num5}')"
   ]
  },
  {
   "cell_type": "code",
   "execution_count": null,
   "id": "57a25268",
   "metadata": {},
   "outputs": [],
   "source": [
    "num1 = float(input('Digite o primeiro numero:'))\n",
    "num2 = float(input('Digite o segundo numero: '))\n",
    "num3 = float(input('Digite o terceiro numero: '))\n",
    "num4 = float(input('Digite o quarto numero: '))\n",
    "num5 = float(input('Digite o quinto numero: '))\n",
    "\n",
    "if  num1 > num2 and num1 > num3 and num1 > num4 and num1 > num5:\n",
    "    if num2 > num3 and num2 > num4 and num2 > num5:     \n",
    "        if num3 > num4 and num3 > num5:\n",
    "            if num4 > num5:\n",
    "                print (f'a ordem Crescente é: {num1}, {num2}, {num3}, {num4}, {num5}')"
   ]
  }
 ],
 "metadata": {
  "kernelspec": {
   "display_name": "Python 3 (ipykernel)",
   "language": "python",
   "name": "python3"
  },
  "language_info": {
   "codemirror_mode": {
    "name": "ipython",
    "version": 3
   },
   "file_extension": ".py",
   "mimetype": "text/x-python",
   "name": "python",
   "nbconvert_exporter": "python",
   "pygments_lexer": "ipython3",
   "version": "3.10.9"
  }
 },
 "nbformat": 4,
 "nbformat_minor": 5
}
