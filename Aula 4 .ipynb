{
 "cells": [
  {
   "cell_type": "code",
   "execution_count": 1,
   "metadata": {},
   "outputs": [
    {
     "name": "stdout",
     "output_type": "stream",
     "text": [
      "Hello!\n"
     ]
    }
   ],
   "source": [
    "print('Hello!')"
   ]
  },
  {
   "cell_type": "code",
   "execution_count": 2,
   "metadata": {},
   "outputs": [
    {
     "data": {
      "text/plain": [
       "'monique'"
      ]
     },
     "execution_count": 2,
     "metadata": {},
     "output_type": "execute_result"
    }
   ],
   "source": [
    "#Criando uma lista\n",
    "\n",
    "alunos = ['Lucas','Ester','Monique','Gomes']\n",
    "notas = [10,20,30,40]\n",
    "\n",
    "alunos[2]\n"
   ]
  },
  {
   "cell_type": "code",
   "execution_count": 3,
   "metadata": {},
   "outputs": [
    {
     "name": "stdout",
     "output_type": "stream",
     "text": [
      "O time que está na 3° posição é: Coritiba\n",
      "O time que está na 4° posição é: Santos\n",
      "O time que está na 1° posição é: palmeiras\n"
     ]
    }
   ],
   "source": [
    "# Crie uma lista com nomes de times\n",
    "\n",
    "times = ['palmeiras','São paulo','Coritiba','Santos']\n",
    "\n",
    "# Acessar o time que está na 3° posição.\n",
    "print('O time que está na 3° posição é:',times[2])\n",
    "\n",
    "# Acessar o time que está na 4° posição\n",
    "print('O time que está na 4° posição é:',times[3])\n",
    "\n",
    "# Acessar o time que está na 1° posição\n",
    "print('O time que está na 1° posição é:',times[0])\n",
    "\n"
   ]
  },
  {
   "cell_type": "markdown",
   "metadata": {},
   "source": [
    "3. Crie uma lista com duas listas de 3 times de futebol, cada uma de uma divisão diferente"
   ]
  },
  {
   "cell_type": "code",
   "execution_count": 9,
   "metadata": {},
   "outputs": [
    {
     "name": "stdout",
     "output_type": "stream",
     "text": [
      "Os elementos da lista são:  [['Botafogo', 'Flamengo', 'Fluminense', 'Fortaleza'], ['Vasco', 'Ceara', 'Vitoria', 'Guarani']]\n",
      "Primeira lisa:  ['Botafogo', 'Flamengo', 'Fluminense', 'Fortaleza']\n",
      "Segunda lisa:  ['Vasco', 'Ceara', 'Vitoria', 'Guarani']\n",
      "O terceiro elemento da 1° lista é:  Fluminense\n"
     ]
    }
   ],
   "source": [
    "#Criando listas em listas\n",
    "campeonato=[ ['Botafogo','Flamengo','Fluminense','Fortaleza'],\n",
    "            ['Vasco','Ceara','Vitoria','Guarani']\n",
    "            ]\n",
    "\n",
    "# Retornar todos elementos da lista\n",
    "print('Os elementos da lista são: ',campeonato)\n",
    "\n",
    "# Retorana primeira lista \n",
    "print('Primeira lisa: ',campeonato[0])\n",
    "\n",
    "# Retorana segunda lista \n",
    "print('Segunda lisa: ',campeonato[1])\n",
    "\n",
    "# Rertonar o terceiro elemento da primeira lista\n",
    "print('O terceiro elemento da 1° lista é: ', campeonato[0][2])"
   ]
  },
  {
   "cell_type": "code",
   "execution_count": null,
   "metadata": {},
   "outputs": [],
   "source": []
  }
 ],
 "metadata": {
  "kernelspec": {
   "display_name": "Python 3",
   "language": "python",
   "name": "python3"
  },
  "language_info": {
   "codemirror_mode": {
    "name": "ipython",
    "version": 3
   },
   "file_extension": ".py",
   "mimetype": "text/x-python",
   "name": "python",
   "nbconvert_exporter": "python",
   "pygments_lexer": "ipython3",
   "version": "3.11.0"
  },
  "orig_nbformat": 4
 },
 "nbformat": 4,
 "nbformat_minor": 2
}
