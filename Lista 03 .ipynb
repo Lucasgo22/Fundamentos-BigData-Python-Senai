{
 "cells": [
  {
   "cell_type": "markdown",
   "metadata": {},
   "source": [
    "## Estrutura de repetição FOR"
   ]
  },
  {
   "cell_type": "code",
   "execution_count": 1,
   "metadata": {},
   "outputs": [
    {
     "name": "stdout",
     "output_type": "stream",
     "text": [
      "Abacaxi\n",
      "Laranja\n",
      "Goiaba\n",
      "uva\n"
     ]
    }
   ],
   "source": [
    "frutas = ['Abacaxi','Laranja','Goiaba','Uva']\n",
    "\n",
    "for fruta in frutas:\n",
    "    print(fruta)"
   ]
  },
  {
   "cell_type": "markdown",
   "metadata": {},
   "source": [
    "## Exercicio 01\n",
    "Crie uma estrutura de repetição para imprimir valores de 0 a 10"
   ]
  },
  {
   "cell_type": "code",
   "execution_count": 2,
   "metadata": {},
   "outputs": [
    {
     "name": "stdout",
     "output_type": "stream",
     "text": [
      "0\n",
      "1\n",
      "2\n",
      "3\n",
      "4\n",
      "5\n",
      "6\n",
      "7\n",
      "8\n",
      "9\n",
      "10\n"
     ]
    }
   ],
   "source": [
    "# Criando uma lista com valores de 0 a 10.\n",
    "\n",
    "lista = [0,1,2,3,4,5,6,7,8,9,10]\n",
    "\n",
    "for i in lista:\n",
    "    print(i)"
   ]
  },
  {
   "cell_type": "markdown",
   "metadata": {},
   "source": [
    "# Exercicio 12 \n",
    "Desenvolva um gerador de tabuada, capaz de gerar a tabuada de\n",
    "qualquer número inteiro entre 1 a 10. O usuário deve informar de qual numero ele deseja\n",
    "ver a tabuada. A saída deve ser conforme o exemplo abaixo:"
   ]
  },
  {
   "cell_type": "code",
   "execution_count": 5,
   "metadata": {},
   "outputs": [
    {
     "name": "stdout",
     "output_type": "stream",
     "text": [
      "a tabuada do 2:  0\n",
      "a tabuada do 2:  2\n",
      "a tabuada do 2:  4\n",
      "a tabuada do 2:  6\n",
      "a tabuada do 2:  8\n",
      "a tabuada do 2:  10\n",
      "a tabuada do 2:  12\n",
      "a tabuada do 2:  14\n",
      "a tabuada do 2:  16\n",
      "a tabuada do 2:  18\n",
      "a tabuada do 2:  20\n"
     ]
    }
   ],
   "source": [
    "# criando a lista de 0 a 10.\n",
    "\n",
    "lista = [0,1,2,3,4,5,6,7,8,9,10]\n",
    "\n",
    "# para fazer a tabuado do 2, multiplicar lista por 2\n",
    "for i in lista:\n",
    "    tabuada_2 = i * 2\n",
    "    print('a tabuada do 2: ',tabuada_2)"
   ]
  },
  {
   "cell_type": "markdown",
   "metadata": {},
   "source": [
    "# Exercicio 12 \n",
    "Desenvolva um gerador de tabuada, capaz de gerar a tabuada de\n",
    "qualquer número inteiro entre 1 a 10. O usuário deve informar de qual numero ele deseja\n",
    "ver a tabuada. A saída deve ser conforme o exemplo abaixo:"
   ]
  },
  {
   "cell_type": "code",
   "execution_count": 13,
   "metadata": {},
   "outputs": [
    {
     "name": "stdout",
     "output_type": "stream",
     "text": [
      "Tabuada do numero 1:\n",
      "1 x 1 = 1\n",
      "1 x 2 = 2\n",
      "1 x 3 = 3\n",
      "1 x 4 = 4\n",
      "1 x 5 = 5\n",
      "1 x 6 = 6\n",
      "1 x 7 = 7\n",
      "1 x 8 = 8\n",
      "1 x 9 = 9\n",
      "1 x 10 = 10\n"
     ]
    }
   ],
   "source": [
    "multiplicadores = [1,2,3,4,5,6,7,8,9,10]\n",
    "\n",
    "i = int(input('Digite o numero: '))\n",
    "print(f'Tabuada do numero {i}:')\n",
    "\n",
    "for num in multiplicadores:\n",
    "    print(f'{i} x {num} = {num * i}')\n",
    "    "
   ]
  },
  {
   "cell_type": "markdown",
   "metadata": {},
   "source": [
    "## Exercicio 06 \n",
    "Faça um programa que imprima na tela os números de 1 a 20, um abaixo\n",
    "do outro.\n"
   ]
  },
  {
   "cell_type": "code",
   "execution_count": 17,
   "metadata": {},
   "outputs": [
    {
     "name": "stdout",
     "output_type": "stream",
     "text": [
      "1\n",
      "2\n",
      "3\n",
      "4\n",
      "5\n",
      "6\n",
      "7\n",
      "8\n",
      "9\n",
      "10\n",
      "11\n",
      "12\n",
      "13\n",
      "14\n",
      "15\n",
      "16\n",
      "17\n",
      "18\n",
      "19\n",
      "20\n"
     ]
    }
   ],
   "source": [
    "intervalo = range(1,21)\n",
    "\n",
    "#exivir valores na vertical\n",
    "for num in intervalo:\n",
    "    print(num)"
   ]
  },
  {
   "cell_type": "code",
   "execution_count": 36,
   "metadata": {},
   "outputs": [
    {
     "name": "stdout",
     "output_type": "stream",
     "text": [
      "[1, 2, 3, 4, 5, 6, 7, 8, 9, 10, 11, 12, 13, 14, 15, 16, 17, 18, 19, 20]\n"
     ]
    }
   ],
   "source": [
    "#exibir valores na horizontal.\n",
    "intervalo = range (1,21)\n",
    "lista = [] #lista vazia\n",
    "\n",
    "for num in intervalo:\n",
    "    lista.append(num)\n",
    "\n",
    "#colocar o print fora do comando do for\n",
    "print(lista)\n"
   ]
  },
  {
   "cell_type": "markdown",
   "metadata": {},
   "source": [
    "## Exercicio 09\n",
    "Faça um programa que imprima na tela apenas os números ímpares\n",
    "entre 1 e 50."
   ]
  },
  {
   "cell_type": "code",
   "execution_count": 29,
   "metadata": {},
   "outputs": [
    {
     "name": "stdout",
     "output_type": "stream",
     "text": [
      "1\n",
      "3\n",
      "5\n",
      "7\n",
      "9\n",
      "11\n",
      "13\n",
      "15\n",
      "17\n",
      "19\n",
      "21\n",
      "23\n",
      "25\n",
      "27\n",
      "29\n",
      "31\n",
      "33\n",
      "35\n",
      "37\n",
      "39\n",
      "41\n",
      "43\n",
      "45\n",
      "47\n",
      "49\n"
     ]
    }
   ],
   "source": [
    "intervalo = range(1,51)\n",
    "\n",
    "for num in intervalo:\n",
    "\n",
    "    if  num % 2 != 0:\n",
    "     print(num) "
   ]
  },
  {
   "cell_type": "markdown",
   "metadata": {},
   "source": [
    "## Exercicio 10\n",
    "Faça um programa que receba dois números inteiros e gere os números\n",
    "inteiros que estão no intervalo compreendido por eles."
   ]
  },
  {
   "cell_type": "code",
   "execution_count": 41,
   "metadata": {},
   "outputs": [
    {
     "name": "stdout",
     "output_type": "stream",
     "text": [
      "[20, 21, 22, 23, 24, 25, 26, 27, 28, 29, 30, 31, 32, 33, 34, 35, 36, 37, 38, 39, 40]\n"
     ]
    }
   ],
   "source": [
    "# solicitar os valor inicial e final ao usuario \n",
    "\n",
    "valor_menor = int(input('Digite o valor inicial do intervalo: '))\n",
    "valor_maior = int(input('Digite o valor final do intervalo: '))\n",
    "\n",
    "#garantir que o numero inferior não seja maior que o superior\n",
    "\n",
    "if valor_menor > valor_maior:\n",
    "    valor_menor, valor_maior = valor_maior, valor_menor \n",
    "    \n",
    "# Colocar isso dentro de uma lista\n",
    "intervalo = range (valor_menor,valor_maior +1)\n",
    "lista = []\n",
    "\n",
    "# Mostrar os valores solicitado\n",
    "for num in intervalo:\n",
    "    lista.append(num)\n",
    "print (lista)"
   ]
  },
  {
   "cell_type": "markdown",
   "metadata": {},
   "source": [
    "## Exercicio 07\n",
    "Faça um programa que leia 5 números e informe o maior número."
   ]
  },
  {
   "cell_type": "code",
   "execution_count": 44,
   "metadata": {},
   "outputs": [
    {
     "ename": "SyntaxError",
     "evalue": "invalid syntax. Perhaps you forgot a comma? (3851420705.py, line 14)",
     "output_type": "error",
     "traceback": [
      "\u001b[1;36m  Cell \u001b[1;32mIn[44], line 14\u001b[1;36m\u001b[0m\n\u001b[1;33m    print ('O maior valor é:' max(num))\u001b[0m\n\u001b[1;37m           ^\u001b[0m\n\u001b[1;31mSyntaxError\u001b[0m\u001b[1;31m:\u001b[0m invalid syntax. Perhaps you forgot a comma?\n"
     ]
    }
   ],
   "source": [
    "# Solicitar ao usuario 5 valores \n",
    "\n",
    "num1 = int(input('Digite o primeiro valor: '))\n",
    "num2 = int(input('Digite o segundo valor: '))\n",
    "num3 = int(input('Digite o terceiro valor: '))\n",
    "num4 = int(input('Digite o quarto valor: '))\n",
    "num5 = int(input('Digite o quinto valor: '))\n",
    "\n",
    "# Colocar numa lista\n",
    "\n",
    "intervalo = (num1,num2,num3,num4,num5)\n",
    "# verificar qual o maior valor \n",
    "for num in intervalo:\n",
    "    print ('O maior valor é:' max(num))"
   ]
  },
  {
   "cell_type": "code",
   "execution_count": 46,
   "metadata": {},
   "outputs": [],
   "source": []
  },
  {
   "cell_type": "code",
   "execution_count": null,
   "metadata": {},
   "outputs": [],
   "source": []
  }
 ],
 "metadata": {
  "kernelspec": {
   "display_name": "Python 3",
   "language": "python",
   "name": "python3"
  },
  "language_info": {
   "codemirror_mode": {
    "name": "ipython",
    "version": 3
   },
   "file_extension": ".py",
   "mimetype": "text/x-python",
   "name": "python",
   "nbconvert_exporter": "python",
   "pygments_lexer": "ipython3",
   "version": "3.11.0"
  },
  "orig_nbformat": 4
 },
 "nbformat": 4,
 "nbformat_minor": 2
}
